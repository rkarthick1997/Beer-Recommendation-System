{
 "cells": [
  {
   "cell_type": "markdown",
   "metadata": {
    "id": "RjeGK15PZkSV"
   },
   "source": [
    "Karthick Ramasubramanian KR33733"
   ]
  },
  {
   "cell_type": "markdown",
   "metadata": {},
   "source": [
    "## Task A"
   ]
  },
  {
   "cell_type": "code",
   "execution_count": 2,
   "metadata": {},
   "outputs": [],
   "source": [
    "import pandas as pd\n",
    "import numpy as np\n",
    "import matplotlib.pyplot as plt\n",
    "import time"
   ]
  },
  {
   "cell_type": "code",
   "execution_count": null,
   "metadata": {
    "id": "W3kJOEkZZt6l"
   },
   "outputs": [],
   "source": [
    "!pip install selenium\n",
    "!apt-get update # to update ubuntu to correctly run apt install\n",
    "!apt install chromium-chromedriver\n",
    "!cp /usr/lib/chromium-browser/chromedriver /usr/bin\n",
    "import sys\n",
    "sys.path.insert(0,'/usr/lib/chromium-browser/chromedriver')\n",
    "from selenium import webdriver\n",
    "chrome_options = webdriver.ChromeOptions()\n",
    "chrome_options.add_argument('--headless')\n",
    "chrome_options.add_argument('--no-sandbox')\n",
    "chrome_options.add_argument('--disable-dev-shm-usage')"
   ]
  },
  {
   "cell_type": "code",
   "execution_count": null,
   "metadata": {
    "colab": {
     "base_uri": "https://localhost:8080/"
    },
    "id": "HWg0XXVmZwAp",
    "outputId": "73e72097-5bd8-4149-ca75-ebf8c107d783"
   },
   "outputs": [
    {
     "name": "stderr",
     "output_type": "stream",
     "text": [
      "/usr/local/lib/python3.7/dist-packages/ipykernel_launcher.py:2: DeprecationWarning: use options instead of chrome_options\n",
      "  \n"
     ]
    }
   ],
   "source": [
    "url='https://www.beeradvocate.com/beer/top-rated/'\n",
    "wd= webdriver.Chrome('chromedriver',chrome_options=chrome_options)\n",
    "wd.get(url)"
   ]
  },
  {
   "cell_type": "code",
   "execution_count": null,
   "metadata": {
    "id": "JlwGbOqWhUPU"
   },
   "outputs": [],
   "source": [
    "# beer_links=wd.find_elements_by_xpath(\"//td[@class='hr_bottom_light']/a\")\n",
    "\n",
    "def get_beer_links():\n",
    "  url='https://www.beeradvocate.com/beer/top-rated/'\n",
    "  wd= webdriver.Chrome('chromedriver',chrome_options=chrome_options)\n",
    "  wd.get(url)\n",
    "  beer_links=wd.find_elements_by_xpath(\"//td[@class='hr_bottom_light']/a\")\n",
    "  return (beer_links,wd)\n",
    "\n",
    "def extract_review_info(brand):\n",
    "  def extract_text(e):\n",
    "    lt_temp=np.array(e.split('\\n\\n'))\n",
    "    # print(lt_temp)\n",
    "    rating=lt_temp[1]\n",
    "    date=lt_temp[-1]\n",
    "\n",
    "    lt_temp=np.delete(lt_temp,[0,1,-1])\n",
    "\n",
    "    return ' '.join(lt_temp)\n",
    "\n",
    "  scr_x_path=\"//div[contains(@id,'rating_fullview_content')]/span[@class='BAscore_norm']\"\n",
    "  txt_x_path=\"//div[contains(@id,'rating_fullview_content')]\"\n",
    "\n",
    "  rating_elements=wd.find_elements_by_xpath(scr_x_path)\n",
    "  txt_elements=wd.find_elements_by_xpath(txt_x_path)\n",
    "\n",
    "\n",
    "\n",
    "\n",
    "\n",
    "  txt_reviews=[extract_text(i.text) for i in txt_elements]\n",
    "  rating_reviews=[i.text for i in rating_elements ]\n",
    "\n",
    "  return pd.DataFrame({'brand_name':brand,\n",
    "                       'rating':rating_reviews,\n",
    "                        'review':txt_reviews})\n",
    "  \n"
   ]
  },
  {
   "cell_type": "code",
   "execution_count": null,
   "metadata": {
    "id": "2mqJCCpxRIiX"
   },
   "outputs": [],
   "source": [
    "# temp_links,wd=get_beer_links()#need to create and close webdriver everytime as the back navigator is not working\n",
    "# link=temp_links[3]\n",
    "\n",
    "# time.sleep(1)\n",
    "# link.click()\n",
    "\n",
    "wd.close()"
   ]
  },
  {
   "cell_type": "code",
   "execution_count": null,
   "metadata": {
    "colab": {
     "base_uri": "https://localhost:8080/",
     "height": 35
    },
    "id": "ltBUkUbYSuX6",
    "outputId": "97731076-1c91-4afd-ea1b-f56636ee732b"
   },
   "outputs": [
    {
     "data": {
      "application/vnd.google.colaboratory.intrinsic+json": {
       "type": "string"
      },
      "text/plain": [
       "'https://www.beeradvocate.com/beer/profile/25888/87246/'"
      ]
     },
     "execution_count": 27,
     "metadata": {},
     "output_type": "execute_result"
    }
   ],
   "source": [
    "# link.href\n",
    "link.get_attribute('href') "
   ]
  },
  {
   "cell_type": "code",
   "execution_count": null,
   "metadata": {
    "id": "jtYw67b-idxZ"
   },
   "outputs": [],
   "source": [
    "# df_info=pd.DataFrame()\n",
    "\n",
    "# ct=0\n",
    "while ct<250:\n",
    "\n",
    "  temp_links,wd=get_beer_links()#need to create and close webdriver everytime as the back navigator is not working\n",
    "  link=temp_links[ct]\n",
    "\n",
    "\n",
    "\n",
    "  brand=link.text\n",
    "\n",
    "  try:\n",
    "    link.click()\n",
    "  except:\n",
    "    new_url=link.get_attribute('href')#new url\n",
    "    wd.close()\n",
    "    print('page closed')\n",
    "\n",
    "    wd= webdriver.Chrome('chromedriver',chrome_options=chrome_options)\n",
    "    wd.get(new_url)\n",
    "\n",
    "  temp=extract_review_info(brand)\n",
    "\n",
    "  df_info=pd.concat([df_info,temp])\n",
    "\n",
    "  wd.close()\n",
    "  ct+=1\n",
    "  print(ct)\n",
    "\n",
    "  # wd.execute_script(\"window.history.go(-1)\")\n",
    "  # wd.back()"
   ]
  },
  {
   "cell_type": "code",
   "execution_count": null,
   "metadata": {
    "colab": {
     "base_uri": "https://localhost:8080/",
     "height": 423
    },
    "id": "qqV0vxBputtQ",
    "outputId": "2134e36d-11dd-407d-f686-4a9989cd10ff"
   },
   "outputs": [
    {
     "data": {
      "text/html": [
       "<div>\n",
       "<style scoped>\n",
       "    .dataframe tbody tr th:only-of-type {\n",
       "        vertical-align: middle;\n",
       "    }\n",
       "\n",
       "    .dataframe tbody tr th {\n",
       "        vertical-align: top;\n",
       "    }\n",
       "\n",
       "    .dataframe thead th {\n",
       "        text-align: right;\n",
       "    }\n",
       "</style>\n",
       "<table border=\"1\" class=\"dataframe\">\n",
       "  <thead>\n",
       "    <tr style=\"text-align: right;\">\n",
       "      <th></th>\n",
       "      <th>brand_name</th>\n",
       "      <th>rating</th>\n",
       "      <th>review</th>\n",
       "    </tr>\n",
       "  </thead>\n",
       "  <tbody>\n",
       "    <tr>\n",
       "      <th>0</th>\n",
       "      <td>Kentucky Brunch Brand Stout</td>\n",
       "      <td>4.56</td>\n",
       "      <td>Long time waiting to tick this one, and I have...</td>\n",
       "    </tr>\n",
       "    <tr>\n",
       "      <th>1</th>\n",
       "      <td>Kentucky Brunch Brand Stout</td>\n",
       "      <td>5</td>\n",
       "      <td>This review is for the 2019 batch. It was bott...</td>\n",
       "    </tr>\n",
       "    <tr>\n",
       "      <th>2</th>\n",
       "      <td>Kentucky Brunch Brand Stout</td>\n",
       "      <td>5</td>\n",
       "      <td>Supreme maple OD! Soooo easy drinking &amp; well-t...</td>\n",
       "    </tr>\n",
       "    <tr>\n",
       "      <th>3</th>\n",
       "      <td>Kentucky Brunch Brand Stout</td>\n",
       "      <td>5</td>\n",
       "      <td>I have now had 4 different years of KBBS and c...</td>\n",
       "    </tr>\n",
       "    <tr>\n",
       "      <th>4</th>\n",
       "      <td>Kentucky Brunch Brand Stout</td>\n",
       "      <td>5</td>\n",
       "      <td>2020 Bottle. Absolutely bonkers Maple Syrup on...</td>\n",
       "    </tr>\n",
       "    <tr>\n",
       "      <th>...</th>\n",
       "      <td>...</td>\n",
       "      <td>...</td>\n",
       "      <td>...</td>\n",
       "    </tr>\n",
       "    <tr>\n",
       "      <th>20</th>\n",
       "      <td>Dragonsaddle</td>\n",
       "      <td>4.75</td>\n",
       "      <td>For me, I have experienced all of the hoof hea...</td>\n",
       "    </tr>\n",
       "    <tr>\n",
       "      <th>21</th>\n",
       "      <td>Dragonsaddle</td>\n",
       "      <td>4.5</td>\n",
       "      <td>fresh can drank on 11/5/2016 very hazy golden ...</td>\n",
       "    </tr>\n",
       "    <tr>\n",
       "      <th>22</th>\n",
       "      <td>Dragonsaddle</td>\n",
       "      <td>4.4</td>\n",
       "      <td>1 PINT can\\nServed in an oversized stemless wi...</td>\n",
       "    </tr>\n",
       "    <tr>\n",
       "      <th>23</th>\n",
       "      <td>Dragonsaddle</td>\n",
       "      <td>4.79</td>\n",
       "      <td>L: Pours a dark gold with a nice head that sta...</td>\n",
       "    </tr>\n",
       "    <tr>\n",
       "      <th>24</th>\n",
       "      <td>Dragonsaddle</td>\n",
       "      <td>5</td>\n",
       "      <td>First beer I've given a 5 across the board..be...</td>\n",
       "    </tr>\n",
       "  </tbody>\n",
       "</table>\n",
       "<p>6227 rows × 3 columns</p>\n",
       "</div>"
      ],
      "text/plain": [
       "                     brand_name  ...                                             review\n",
       "0   Kentucky Brunch Brand Stout  ...  Long time waiting to tick this one, and I have...\n",
       "1   Kentucky Brunch Brand Stout  ...  This review is for the 2019 batch. It was bott...\n",
       "2   Kentucky Brunch Brand Stout  ...  Supreme maple OD! Soooo easy drinking & well-t...\n",
       "3   Kentucky Brunch Brand Stout  ...  I have now had 4 different years of KBBS and c...\n",
       "4   Kentucky Brunch Brand Stout  ...  2020 Bottle. Absolutely bonkers Maple Syrup on...\n",
       "..                          ...  ...                                                ...\n",
       "20                 Dragonsaddle  ...  For me, I have experienced all of the hoof hea...\n",
       "21                 Dragonsaddle  ...  fresh can drank on 11/5/2016 very hazy golden ...\n",
       "22                 Dragonsaddle  ...  1 PINT can\\nServed in an oversized stemless wi...\n",
       "23                 Dragonsaddle  ...  L: Pours a dark gold with a nice head that sta...\n",
       "24                 Dragonsaddle  ...  First beer I've given a 5 across the board..be...\n",
       "\n",
       "[6227 rows x 3 columns]"
      ]
     },
     "execution_count": 34,
     "metadata": {},
     "output_type": "execute_result"
    }
   ],
   "source": [
    "df_info"
   ]
  },
  {
   "cell_type": "code",
   "execution_count": null,
   "metadata": {
    "id": "-13dTrc1xYyX"
   },
   "outputs": [],
   "source": [
    "df_info.to_csv('data.csv')"
   ]
  },
  {
   "cell_type": "code",
   "execution_count": null,
   "metadata": {
    "id": "Kmlsg7i_m5hl"
   },
   "outputs": [],
   "source": [
    "pd.DataFrame({'rating':rating_reviews,\n",
    "              'review':txt_reviews})\n",
    "# pd.DataFrame(txt_reviews[0])"
   ]
  },
  {
   "cell_type": "code",
   "execution_count": null,
   "metadata": {
    "id": "OBcgzin3m6zG"
   },
   "outputs": [],
   "source": [
    "wd.close()"
   ]
  },
  {
   "cell_type": "markdown",
   "metadata": {
    "id": "kzP1ENM0dDC9"
   },
   "source": [
    "## Task B : Getting Attributes"
   ]
  },
  {
   "cell_type": "code",
   "execution_count": 3,
   "metadata": {
    "id": "r6zu-lOOgTvl"
   },
   "outputs": [
    {
     "name": "stderr",
     "output_type": "stream",
     "text": [
      "[nltk_data] Downloading package stopwords to\n",
      "[nltk_data]     C:\\Users\\Hatricano\\AppData\\Roaming\\nltk_data...\n",
      "[nltk_data]   Package stopwords is already up-to-date!\n",
      "[nltk_data] Downloading package wordnet to\n",
      "[nltk_data]     C:\\Users\\Hatricano\\AppData\\Roaming\\nltk_data...\n",
      "[nltk_data]   Package wordnet is already up-to-date!\n",
      "[nltk_data] Downloading package punkt to\n",
      "[nltk_data]     C:\\Users\\Hatricano\\AppData\\Roaming\\nltk_data...\n",
      "[nltk_data]   Package punkt is already up-to-date!\n"
     ]
    }
   ],
   "source": [
    "import re\n",
    "import spacy\n",
    "import nltk\n",
    "\n",
    "import nltk\n",
    "from nltk.corpus import stopwords \n",
    "from nltk.stem.wordnet import WordNetLemmatizer\n",
    "import string\n",
    "from nltk.tokenize import word_tokenize\n",
    "\n",
    "# import gensim\n",
    "# from gensim import corpora\n",
    "\n",
    "nltk.download('stopwords')\n",
    "nltk.download('wordnet')\n",
    "nltk.download('punkt')\n",
    "\n",
    "from string import punctuation\n",
    "stop_words = set( stopwords.words('english'))\n",
    "\n",
    "%matplotlib inline\n",
    "\n",
    "from sklearn.feature_extraction.text import CountVectorizer\n",
    "from sklearn.metrics.pairwise import cosine_similarity"
   ]
  },
  {
   "cell_type": "code",
   "execution_count": 4,
   "metadata": {
    "id": "OTN8jOwmdEMS"
   },
   "outputs": [],
   "source": [
    "# from google.colab import files \n",
    "# files.upload()\n",
    "df = pd.read_csv('data.csv')"
   ]
  },
  {
   "cell_type": "code",
   "execution_count": 5,
   "metadata": {
    "colab": {
     "base_uri": "https://localhost:8080/",
     "height": 204
    },
    "id": "0t_KpfaTdSz-",
    "outputId": "02b0b0d2-42a4-4389-cb54-1f34854cef3f"
   },
   "outputs": [
    {
     "data": {
      "text/html": [
       "<div>\n",
       "<style scoped>\n",
       "    .dataframe tbody tr th:only-of-type {\n",
       "        vertical-align: middle;\n",
       "    }\n",
       "\n",
       "    .dataframe tbody tr th {\n",
       "        vertical-align: top;\n",
       "    }\n",
       "\n",
       "    .dataframe thead th {\n",
       "        text-align: right;\n",
       "    }\n",
       "</style>\n",
       "<table border=\"1\" class=\"dataframe\">\n",
       "  <thead>\n",
       "    <tr style=\"text-align: right;\">\n",
       "      <th></th>\n",
       "      <th>Unnamed: 0</th>\n",
       "      <th>brand_name</th>\n",
       "      <th>rating</th>\n",
       "      <th>review</th>\n",
       "    </tr>\n",
       "  </thead>\n",
       "  <tbody>\n",
       "    <tr>\n",
       "      <th>0</th>\n",
       "      <td>0</td>\n",
       "      <td>Kentucky Brunch Brand Stout</td>\n",
       "      <td>4.56</td>\n",
       "      <td>Long time waiting to tick this one, and I have...</td>\n",
       "    </tr>\n",
       "    <tr>\n",
       "      <th>1</th>\n",
       "      <td>1</td>\n",
       "      <td>Kentucky Brunch Brand Stout</td>\n",
       "      <td>5.00</td>\n",
       "      <td>This review is for the 2019 batch. It was bott...</td>\n",
       "    </tr>\n",
       "    <tr>\n",
       "      <th>2</th>\n",
       "      <td>2</td>\n",
       "      <td>Kentucky Brunch Brand Stout</td>\n",
       "      <td>5.00</td>\n",
       "      <td>Supreme maple OD! Soooo easy drinking &amp; well-t...</td>\n",
       "    </tr>\n",
       "    <tr>\n",
       "      <th>3</th>\n",
       "      <td>3</td>\n",
       "      <td>Kentucky Brunch Brand Stout</td>\n",
       "      <td>5.00</td>\n",
       "      <td>I have now had 4 different years of KBBS and c...</td>\n",
       "    </tr>\n",
       "    <tr>\n",
       "      <th>4</th>\n",
       "      <td>4</td>\n",
       "      <td>Kentucky Brunch Brand Stout</td>\n",
       "      <td>5.00</td>\n",
       "      <td>2020 Bottle. Absolutely bonkers Maple Syrup on...</td>\n",
       "    </tr>\n",
       "  </tbody>\n",
       "</table>\n",
       "</div>"
      ],
      "text/plain": [
       "   Unnamed: 0                   brand_name  rating  \\\n",
       "0           0  Kentucky Brunch Brand Stout    4.56   \n",
       "1           1  Kentucky Brunch Brand Stout    5.00   \n",
       "2           2  Kentucky Brunch Brand Stout    5.00   \n",
       "3           3  Kentucky Brunch Brand Stout    5.00   \n",
       "4           4  Kentucky Brunch Brand Stout    5.00   \n",
       "\n",
       "                                              review  \n",
       "0  Long time waiting to tick this one, and I have...  \n",
       "1  This review is for the 2019 batch. It was bott...  \n",
       "2  Supreme maple OD! Soooo easy drinking & well-t...  \n",
       "3  I have now had 4 different years of KBBS and c...  \n",
       "4  2020 Bottle. Absolutely bonkers Maple Syrup on...  "
      ]
     },
     "execution_count": 5,
     "metadata": {},
     "output_type": "execute_result"
    }
   ],
   "source": [
    "df.head()"
   ]
  },
  {
   "cell_type": "code",
   "execution_count": 6,
   "metadata": {
    "id": "wTz9wlq4gXum"
   },
   "outputs": [],
   "source": [
    "# stop loss words \n",
    "stop = set(stopwords.words('english'))\n",
    "\n",
    "# punctuation \n",
    "exclude = set(string.punctuation) \n",
    "\n",
    "# lemmatization\n",
    "lemma = WordNetLemmatizer() \n",
    "\n",
    "\n",
    "# One function for all the steps:\n",
    "def clean(doc):\n",
    "    # convert text into lower case + split into words\n",
    "    stop_free = \" \".join([i for i in doc.lower().split() if i not in stop])\n",
    "    # remove any stop words present\n",
    "    punc_free = ''.join(ch for ch in stop_free if ch not in exclude)  \n",
    "    # remove punctuations + normalize the text\n",
    "    normalized = \" \".join(lemma.lemmatize(word) for word in punc_free.split())  \n",
    "    \n",
    "    return normalized"
   ]
  },
  {
   "cell_type": "code",
   "execution_count": 7,
   "metadata": {
    "id": "bdczQxXNgy8S"
   },
   "outputs": [],
   "source": [
    "df['clean'] = df['review'].map(clean)\n",
    "df['review_clean_tokanize'] = df['clean'].apply(word_tokenize)"
   ]
  },
  {
   "cell_type": "code",
   "execution_count": 11,
   "metadata": {
    "id": "F_913uvZgX0s"
   },
   "outputs": [],
   "source": [
    "## Word Count from Review\n",
    "\n",
    "from collections import defaultdict\n",
    "word_count=defaultdict(int)\n",
    "\n",
    "ct=0\n",
    "\n",
    "for i in range(len(df)):\n",
    "    for words in df['review_clean_tokanize'][i]:\n",
    "        word_count[words] +=1\n",
    "\n",
    "word_ct_sorted={i:j for i,j in sorted(word_count.items(), key=lambda d:d[1],reverse=True)}\n",
    "# word_ct_sorted"
   ]
  },
  {
   "cell_type": "code",
   "execution_count": null,
   "metadata": {
    "id": "y2xboGnm1wEe"
   },
   "outputs": [],
   "source": []
  },
  {
   "cell_type": "markdown",
   "metadata": {
    "id": "Tarqcany1x5k"
   },
   "source": [
    "## Part C: Similarity"
   ]
  },
  {
   "cell_type": "code",
   "execution_count": 12,
   "metadata": {
    "id": "to2uKfcC2Sn5"
   },
   "outputs": [],
   "source": [
    "# Aggressive (Boldly assertive aroma and/or taste) \n",
    "# Balanced: Malt and hops in similar proportions; equal representation of malt sweetness and hop bitterness in the flavor — especially at the finish\n",
    "# Complex: Multidimensional; many flavors and sensations on the palate\n",
    "# Crisp: Highly carbonated; effervescentFruity: Flavors reminiscent of various fruits \n",
    "# Hoppy: Herbal, earthy, spicy, or citric aromas and flavors of hops or Malty: Grainy, caramel-like; can be sweet or dry\n",
    "# Robust: Rich and full-bodied\n",
    "# Diacetyl: Buttery or butterscotchy aroma or flavor\n",
    "# Estery: Fruity aromas\n",
    "# Floral: Full of aromas reminiscent of flowers\n",
    "# Fruity: Flavors reminiscent of various fruits\n",
    "# Malty: Grainy, caramel-like; can be sweet or dry\n",
    "# Roasty/toasty: Malt (roasted grain) flavors"
   ]
  },
  {
   "cell_type": "code",
   "execution_count": 13,
   "metadata": {
    "colab": {
     "base_uri": "https://localhost:8080/",
     "height": 235
    },
    "id": "as2HfO4C7U_U",
    "outputId": "74e5a58e-580d-444f-8dba-fce047ee2128"
   },
   "outputs": [
    {
     "data": {
      "text/html": [
       "<div>\n",
       "<style scoped>\n",
       "    .dataframe tbody tr th:only-of-type {\n",
       "        vertical-align: middle;\n",
       "    }\n",
       "\n",
       "    .dataframe tbody tr th {\n",
       "        vertical-align: top;\n",
       "    }\n",
       "\n",
       "    .dataframe thead th {\n",
       "        text-align: right;\n",
       "    }\n",
       "</style>\n",
       "<table border=\"1\" class=\"dataframe\">\n",
       "  <thead>\n",
       "    <tr style=\"text-align: right;\">\n",
       "      <th></th>\n",
       "      <th>description</th>\n",
       "      <th>clean</th>\n",
       "    </tr>\n",
       "  </thead>\n",
       "  <tbody>\n",
       "    <tr>\n",
       "      <th>aggressive</th>\n",
       "      <td>Malt and hops in similar proportions; equal re...</td>\n",
       "      <td>malt hop similar proportion equal representati...</td>\n",
       "    </tr>\n",
       "    <tr>\n",
       "      <th>balanced</th>\n",
       "      <td>Multidimensional; many flavors and sensations ...</td>\n",
       "      <td>multidimensional many flavor sensation palate</td>\n",
       "    </tr>\n",
       "    <tr>\n",
       "      <th>complex</th>\n",
       "      <td>Boldly assertive aroma and/or taste</td>\n",
       "      <td>boldly assertive aroma andor taste</td>\n",
       "    </tr>\n",
       "    <tr>\n",
       "      <th>crisp</th>\n",
       "      <td>Highly carbonated; effervescent Fruity: Flavor...</td>\n",
       "      <td>highly carbonated effervescent fruity flavor r...</td>\n",
       "    </tr>\n",
       "    <tr>\n",
       "      <th>hoppy</th>\n",
       "      <td>Herbal, earthy, spicy, or citric aromas and fl...</td>\n",
       "      <td>herbal earthy spicy citric aroma flavor hop ma...</td>\n",
       "    </tr>\n",
       "    <tr>\n",
       "      <th>robust</th>\n",
       "      <td>Rich and full-bodied</td>\n",
       "      <td>rich fullbodied</td>\n",
       "    </tr>\n",
       "    <tr>\n",
       "      <th>diacetyl</th>\n",
       "      <td>Buttery or butterscotchy aroma or flavor</td>\n",
       "      <td>buttery butterscotchy aroma flavor</td>\n",
       "    </tr>\n",
       "    <tr>\n",
       "      <th>estery</th>\n",
       "      <td>Fruity aromas</td>\n",
       "      <td>fruity aroma</td>\n",
       "    </tr>\n",
       "    <tr>\n",
       "      <th>floral</th>\n",
       "      <td>Full of aromas reminiscent of flowers</td>\n",
       "      <td>full aroma reminiscent flower</td>\n",
       "    </tr>\n",
       "    <tr>\n",
       "      <th>fruity</th>\n",
       "      <td>Flavors reminiscent of various fruits</td>\n",
       "      <td>flavor reminiscent various fruit</td>\n",
       "    </tr>\n",
       "    <tr>\n",
       "      <th>malty</th>\n",
       "      <td>Grainy, caramel-like; can be sweet or dry</td>\n",
       "      <td>grainy caramellike sweet dry</td>\n",
       "    </tr>\n",
       "    <tr>\n",
       "      <th>roasty/toasty</th>\n",
       "      <td>Malt (roasted grain) flavors</td>\n",
       "      <td>malt roasted grain flavor</td>\n",
       "    </tr>\n",
       "  </tbody>\n",
       "</table>\n",
       "</div>"
      ],
      "text/plain": [
       "                                                     description  \\\n",
       "aggressive     Malt and hops in similar proportions; equal re...   \n",
       "balanced       Multidimensional; many flavors and sensations ...   \n",
       "complex                      Boldly assertive aroma and/or taste   \n",
       "crisp          Highly carbonated; effervescent Fruity: Flavor...   \n",
       "hoppy          Herbal, earthy, spicy, or citric aromas and fl...   \n",
       "robust                                      Rich and full-bodied   \n",
       "diacetyl                Buttery or butterscotchy aroma or flavor   \n",
       "estery                                             Fruity aromas   \n",
       "floral                     Full of aromas reminiscent of flowers   \n",
       "fruity                     Flavors reminiscent of various fruits   \n",
       "malty                  Grainy, caramel-like; can be sweet or dry   \n",
       "roasty/toasty                       Malt (roasted grain) flavors   \n",
       "\n",
       "                                                           clean  \n",
       "aggressive     malt hop similar proportion equal representati...  \n",
       "balanced           multidimensional many flavor sensation palate  \n",
       "complex                       boldly assertive aroma andor taste  \n",
       "crisp          highly carbonated effervescent fruity flavor r...  \n",
       "hoppy          herbal earthy spicy citric aroma flavor hop ma...  \n",
       "robust                                           rich fullbodied  \n",
       "diacetyl                      buttery butterscotchy aroma flavor  \n",
       "estery                                              fruity aroma  \n",
       "floral                             full aroma reminiscent flower  \n",
       "fruity                          flavor reminiscent various fruit  \n",
       "malty                               grainy caramellike sweet dry  \n",
       "roasty/toasty                          malt roasted grain flavor  "
      ]
     },
     "execution_count": 13,
     "metadata": {},
     "output_type": "execute_result"
    }
   ],
   "source": [
    "customer_attribute = pd.DataFrame(index=['aggressive','balanced','complex','crisp','hoppy','robust'], columns=['description'])\n",
    "customer_attribute.loc['aggressive'] = 'Malt and hops in similar proportions; equal representation of malt sweetness and hop bitterness in the flavor — especially at the finish'\n",
    "customer_attribute.loc['balanced'] = 'Multidimensional; many flavors and sensations on the palate'\n",
    "customer_attribute.loc['complex'] = 'Boldly assertive aroma and/or taste'\n",
    "customer_attribute.loc['crisp'] = 'Highly carbonated; effervescent Fruity: Flavors reminiscent of various fruits'\n",
    "customer_attribute.loc['hoppy'] = 'Herbal, earthy, spicy, or citric aromas and flavors of hops or Malty: Grainy, caramel-like; can be sweet or dry'\n",
    "customer_attribute.loc['robust'] = 'Rich and full-bodied'\n",
    "customer_attribute.loc['diacetyl'] = 'Buttery or butterscotchy aroma or flavor'\n",
    "customer_attribute.loc['estery'] = 'Fruity aromas'\n",
    "customer_attribute.loc['floral'] = 'Full of aromas reminiscent of flowers'\n",
    "customer_attribute.loc['fruity'] = 'Flavors reminiscent of various fruits'\n",
    "customer_attribute.loc['malty'] = 'Grainy, caramel-like; can be sweet or dry'\n",
    "customer_attribute.loc['roasty/toasty'] = 'Malt (roasted grain) flavors'\n",
    "\n",
    "customer_attribute['clean'] = customer_attribute['description'].map(clean)\n",
    "customer_attribute"
   ]
  },
  {
   "cell_type": "code",
   "execution_count": 19,
   "metadata": {
    "id": "np7MyuSa2Sqx"
   },
   "outputs": [],
   "source": [
    "frame = [customer_attribute[['clean']],df[['clean']] ]\n",
    "attribute_and_reviews = pd.concat(frame,join='outer')\n",
    "\n",
    "count_vec = CountVectorizer()\n",
    "word_vector = count_vec.fit_transform(attribute_and_reviews['clean']).toarray()\n",
    "\n",
    "attribute = word_vector[0:12,:]\n",
    "reviews = word_vector[12:,]"
   ]
  },
  {
   "cell_type": "code",
   "execution_count": 23,
   "metadata": {
    "colab": {
     "base_uri": "https://localhost:8080/",
     "height": 204
    },
    "id": "SMDty1IF2Swu",
    "outputId": "838f8493-e6e2-4acf-fc51-353565603af1",
    "scrolled": true
   },
   "outputs": [
    {
     "data": {
      "text/html": [
       "<div>\n",
       "<style scoped>\n",
       "    .dataframe tbody tr th:only-of-type {\n",
       "        vertical-align: middle;\n",
       "    }\n",
       "\n",
       "    .dataframe tbody tr th {\n",
       "        vertical-align: top;\n",
       "    }\n",
       "\n",
       "    .dataframe thead th {\n",
       "        text-align: right;\n",
       "    }\n",
       "</style>\n",
       "<table border=\"1\" class=\"dataframe\">\n",
       "  <thead>\n",
       "    <tr style=\"text-align: right;\">\n",
       "      <th></th>\n",
       "      <th>aggressive</th>\n",
       "      <th>balanced</th>\n",
       "      <th>complex</th>\n",
       "      <th>crisp</th>\n",
       "      <th>hoppy</th>\n",
       "      <th>robust</th>\n",
       "      <th>diacetyl</th>\n",
       "      <th>estery</th>\n",
       "      <th>floral</th>\n",
       "      <th>fruity</th>\n",
       "      <th>malty</th>\n",
       "      <th>roasty/toasty</th>\n",
       "      <th>brand_name</th>\n",
       "      <th>rating</th>\n",
       "      <th>review</th>\n",
       "    </tr>\n",
       "  </thead>\n",
       "  <tbody>\n",
       "    <tr>\n",
       "      <th>0</th>\n",
       "      <td>0.046676</td>\n",
       "      <td>0.000000</td>\n",
       "      <td>0.000000</td>\n",
       "      <td>0.000000</td>\n",
       "      <td>0.000000</td>\n",
       "      <td>0.0</td>\n",
       "      <td>0.000000</td>\n",
       "      <td>0.0</td>\n",
       "      <td>0.000000</td>\n",
       "      <td>0.000000</td>\n",
       "      <td>0.0</td>\n",
       "      <td>0.000000</td>\n",
       "      <td>Kentucky Brunch Brand Stout</td>\n",
       "      <td>4.56</td>\n",
       "      <td>Long time waiting to tick this one, and I have...</td>\n",
       "    </tr>\n",
       "    <tr>\n",
       "      <th>1</th>\n",
       "      <td>0.033634</td>\n",
       "      <td>0.062017</td>\n",
       "      <td>0.000000</td>\n",
       "      <td>0.049029</td>\n",
       "      <td>0.040032</td>\n",
       "      <td>0.0</td>\n",
       "      <td>0.069338</td>\n",
       "      <td>0.0</td>\n",
       "      <td>0.069338</td>\n",
       "      <td>0.069338</td>\n",
       "      <td>0.0</td>\n",
       "      <td>0.069338</td>\n",
       "      <td>Kentucky Brunch Brand Stout</td>\n",
       "      <td>5.00</td>\n",
       "      <td>This review is for the 2019 batch. It was bott...</td>\n",
       "    </tr>\n",
       "    <tr>\n",
       "      <th>2</th>\n",
       "      <td>0.000000</td>\n",
       "      <td>0.000000</td>\n",
       "      <td>0.000000</td>\n",
       "      <td>0.000000</td>\n",
       "      <td>0.000000</td>\n",
       "      <td>0.0</td>\n",
       "      <td>0.000000</td>\n",
       "      <td>0.0</td>\n",
       "      <td>0.000000</td>\n",
       "      <td>0.000000</td>\n",
       "      <td>0.0</td>\n",
       "      <td>0.000000</td>\n",
       "      <td>Kentucky Brunch Brand Stout</td>\n",
       "      <td>5.00</td>\n",
       "      <td>Supreme maple OD! Soooo easy drinking &amp; well-t...</td>\n",
       "    </tr>\n",
       "    <tr>\n",
       "      <th>3</th>\n",
       "      <td>0.000000</td>\n",
       "      <td>0.000000</td>\n",
       "      <td>0.062017</td>\n",
       "      <td>0.000000</td>\n",
       "      <td>0.000000</td>\n",
       "      <td>0.0</td>\n",
       "      <td>0.000000</td>\n",
       "      <td>0.0</td>\n",
       "      <td>0.000000</td>\n",
       "      <td>0.000000</td>\n",
       "      <td>0.0</td>\n",
       "      <td>0.000000</td>\n",
       "      <td>Kentucky Brunch Brand Stout</td>\n",
       "      <td>5.00</td>\n",
       "      <td>I have now had 4 different years of KBBS and c...</td>\n",
       "    </tr>\n",
       "    <tr>\n",
       "      <th>4</th>\n",
       "      <td>0.000000</td>\n",
       "      <td>0.000000</td>\n",
       "      <td>0.000000</td>\n",
       "      <td>0.000000</td>\n",
       "      <td>0.000000</td>\n",
       "      <td>0.0</td>\n",
       "      <td>0.000000</td>\n",
       "      <td>0.0</td>\n",
       "      <td>0.000000</td>\n",
       "      <td>0.000000</td>\n",
       "      <td>0.0</td>\n",
       "      <td>0.000000</td>\n",
       "      <td>Kentucky Brunch Brand Stout</td>\n",
       "      <td>5.00</td>\n",
       "      <td>2020 Bottle. Absolutely bonkers Maple Syrup on...</td>\n",
       "    </tr>\n",
       "  </tbody>\n",
       "</table>\n",
       "</div>"
      ],
      "text/plain": [
       "   aggressive  balanced   complex     crisp     hoppy  robust  diacetyl  \\\n",
       "0    0.046676  0.000000  0.000000  0.000000  0.000000     0.0  0.000000   \n",
       "1    0.033634  0.062017  0.000000  0.049029  0.040032     0.0  0.069338   \n",
       "2    0.000000  0.000000  0.000000  0.000000  0.000000     0.0  0.000000   \n",
       "3    0.000000  0.000000  0.062017  0.000000  0.000000     0.0  0.000000   \n",
       "4    0.000000  0.000000  0.000000  0.000000  0.000000     0.0  0.000000   \n",
       "\n",
       "   estery    floral    fruity  malty  roasty/toasty  \\\n",
       "0     0.0  0.000000  0.000000    0.0       0.000000   \n",
       "1     0.0  0.069338  0.069338    0.0       0.069338   \n",
       "2     0.0  0.000000  0.000000    0.0       0.000000   \n",
       "3     0.0  0.000000  0.000000    0.0       0.000000   \n",
       "4     0.0  0.000000  0.000000    0.0       0.000000   \n",
       "\n",
       "                    brand_name  rating  \\\n",
       "0  Kentucky Brunch Brand Stout    4.56   \n",
       "1  Kentucky Brunch Brand Stout    5.00   \n",
       "2  Kentucky Brunch Brand Stout    5.00   \n",
       "3  Kentucky Brunch Brand Stout    5.00   \n",
       "4  Kentucky Brunch Brand Stout    5.00   \n",
       "\n",
       "                                              review  \n",
       "0  Long time waiting to tick this one, and I have...  \n",
       "1  This review is for the 2019 batch. It was bott...  \n",
       "2  Supreme maple OD! Soooo easy drinking & well-t...  \n",
       "3  I have now had 4 different years of KBBS and c...  \n",
       "4  2020 Bottle. Absolutely bonkers Maple Syrup on...  "
      ]
     },
     "execution_count": 23,
     "metadata": {},
     "output_type": "execute_result"
    }
   ],
   "source": [
    "similarity = pd.DataFrame(cosine_similarity(X = reviews, Y=attribute), index = df.index, columns=customer_attribute.index )\n",
    "similarity['brand_name'],similarity['rating'],similarity['review'] = df['brand_name'], df['rating'], df['review']\n",
    "similarity.head()"
   ]
  },
  {
   "cell_type": "code",
   "execution_count": 31,
   "metadata": {
    "id": "L1Ewz0IqfRaa"
   },
   "outputs": [
    {
     "name": "stdout",
     "output_type": "stream",
     "text": [
      "Enter 1st Attribute:Complex\n",
      "Enter 2nd Attribute:Crisp\n",
      "Enter 3rd Attribute:Hoppy\n"
     ]
    }
   ],
   "source": [
    "# Customer Preference Input\n",
    "# Choose 3 attribute from : \n",
    "# Aggressive, Balanced, Complex, Crisp, Hoppy, Robust, Diacetyl, Estery, Floral, Fruity, Malty, Roasty/toasty\n",
    "a = input(\"Enter 1st Attribute:\").lower()\n",
    "b = input(\"Enter 2nd Attribute:\").lower()\n",
    "c = input(\"Enter 3rd Attribute:\").lower()\n",
    "preference_list=[a,b,c]"
   ]
  },
  {
   "cell_type": "code",
   "execution_count": 44,
   "metadata": {},
   "outputs": [
    {
     "data": {
      "text/html": [
       "<div>\n",
       "<style scoped>\n",
       "    .dataframe tbody tr th:only-of-type {\n",
       "        vertical-align: middle;\n",
       "    }\n",
       "\n",
       "    .dataframe tbody tr th {\n",
       "        vertical-align: top;\n",
       "    }\n",
       "\n",
       "    .dataframe thead th {\n",
       "        text-align: right;\n",
       "    }\n",
       "</style>\n",
       "<table border=\"1\" class=\"dataframe\">\n",
       "  <thead>\n",
       "    <tr style=\"text-align: right;\">\n",
       "      <th></th>\n",
       "      <th>brand_name</th>\n",
       "      <th>review</th>\n",
       "      <th>complex</th>\n",
       "      <th>crisp</th>\n",
       "      <th>hoppy</th>\n",
       "    </tr>\n",
       "  </thead>\n",
       "  <tbody>\n",
       "    <tr>\n",
       "      <th>0</th>\n",
       "      <td>Kentucky Brunch Brand Stout</td>\n",
       "      <td>Long time waiting to tick this one, and I have...</td>\n",
       "      <td>0.000000</td>\n",
       "      <td>0.000000</td>\n",
       "      <td>0.000000</td>\n",
       "    </tr>\n",
       "    <tr>\n",
       "      <th>1</th>\n",
       "      <td>Kentucky Brunch Brand Stout</td>\n",
       "      <td>This review is for the 2019 batch. It was bott...</td>\n",
       "      <td>0.000000</td>\n",
       "      <td>0.049029</td>\n",
       "      <td>0.040032</td>\n",
       "    </tr>\n",
       "    <tr>\n",
       "      <th>2</th>\n",
       "      <td>Kentucky Brunch Brand Stout</td>\n",
       "      <td>Supreme maple OD! Soooo easy drinking &amp; well-t...</td>\n",
       "      <td>0.000000</td>\n",
       "      <td>0.000000</td>\n",
       "      <td>0.000000</td>\n",
       "    </tr>\n",
       "    <tr>\n",
       "      <th>3</th>\n",
       "      <td>Kentucky Brunch Brand Stout</td>\n",
       "      <td>I have now had 4 different years of KBBS and c...</td>\n",
       "      <td>0.062017</td>\n",
       "      <td>0.000000</td>\n",
       "      <td>0.000000</td>\n",
       "    </tr>\n",
       "    <tr>\n",
       "      <th>4</th>\n",
       "      <td>Kentucky Brunch Brand Stout</td>\n",
       "      <td>2020 Bottle. Absolutely bonkers Maple Syrup on...</td>\n",
       "      <td>0.000000</td>\n",
       "      <td>0.000000</td>\n",
       "      <td>0.000000</td>\n",
       "    </tr>\n",
       "  </tbody>\n",
       "</table>\n",
       "</div>"
      ],
      "text/plain": [
       "                    brand_name  \\\n",
       "0  Kentucky Brunch Brand Stout   \n",
       "1  Kentucky Brunch Brand Stout   \n",
       "2  Kentucky Brunch Brand Stout   \n",
       "3  Kentucky Brunch Brand Stout   \n",
       "4  Kentucky Brunch Brand Stout   \n",
       "\n",
       "                                              review   complex     crisp  \\\n",
       "0  Long time waiting to tick this one, and I have...  0.000000  0.000000   \n",
       "1  This review is for the 2019 batch. It was bott...  0.000000  0.049029   \n",
       "2  Supreme maple OD! Soooo easy drinking & well-t...  0.000000  0.000000   \n",
       "3  I have now had 4 different years of KBBS and c...  0.062017  0.000000   \n",
       "4  2020 Bottle. Absolutely bonkers Maple Syrup on...  0.000000  0.000000   \n",
       "\n",
       "      hoppy  \n",
       "0  0.000000  \n",
       "1  0.040032  \n",
       "2  0.000000  \n",
       "3  0.000000  \n",
       "4  0.000000  "
      ]
     },
     "execution_count": 44,
     "metadata": {},
     "output_type": "execute_result"
    }
   ],
   "source": [
    "#Output File \n",
    "columns = ['brand_name','review'] + preference_list\n",
    "attribute_similarity = similarity[columns]\n",
    "attribute_similarity.head()"
   ]
  },
  {
   "cell_type": "code",
   "execution_count": 47,
   "metadata": {},
   "outputs": [
    {
     "data": {
      "text/html": [
       "<div>\n",
       "<style scoped>\n",
       "    .dataframe tbody tr th:only-of-type {\n",
       "        vertical-align: middle;\n",
       "    }\n",
       "\n",
       "    .dataframe tbody tr th {\n",
       "        vertical-align: top;\n",
       "    }\n",
       "\n",
       "    .dataframe thead th {\n",
       "        text-align: right;\n",
       "    }\n",
       "</style>\n",
       "<table border=\"1\" class=\"dataframe\">\n",
       "  <thead>\n",
       "    <tr style=\"text-align: right;\">\n",
       "      <th></th>\n",
       "      <th>complex</th>\n",
       "      <th>crisp</th>\n",
       "      <th>hoppy</th>\n",
       "    </tr>\n",
       "    <tr>\n",
       "      <th>brand_name</th>\n",
       "      <th></th>\n",
       "      <th></th>\n",
       "      <th></th>\n",
       "    </tr>\n",
       "  </thead>\n",
       "  <tbody>\n",
       "    <tr>\n",
       "      <th>A Deal With The Devil</th>\n",
       "      <td>0.056678</td>\n",
       "      <td>0.040272</td>\n",
       "      <td>0.071706</td>\n",
       "    </tr>\n",
       "    <tr>\n",
       "      <th>A Deal With The Devil - Double Oak-Aged</th>\n",
       "      <td>0.035518</td>\n",
       "      <td>0.049384</td>\n",
       "      <td>0.054692</td>\n",
       "    </tr>\n",
       "    <tr>\n",
       "      <th>Aaron</th>\n",
       "      <td>0.041683</td>\n",
       "      <td>0.042808</td>\n",
       "      <td>0.060647</td>\n",
       "    </tr>\n",
       "    <tr>\n",
       "      <th>Abner</th>\n",
       "      <td>0.062675</td>\n",
       "      <td>0.036660</td>\n",
       "      <td>0.065511</td>\n",
       "    </tr>\n",
       "    <tr>\n",
       "      <th>Abrasive Ale</th>\n",
       "      <td>0.060460</td>\n",
       "      <td>0.045823</td>\n",
       "      <td>0.088004</td>\n",
       "    </tr>\n",
       "    <tr>\n",
       "      <th>...</th>\n",
       "      <td>...</td>\n",
       "      <td>...</td>\n",
       "      <td>...</td>\n",
       "    </tr>\n",
       "    <tr>\n",
       "      <th>Westly</th>\n",
       "      <td>0.042772</td>\n",
       "      <td>0.076247</td>\n",
       "      <td>0.037869</td>\n",
       "    </tr>\n",
       "    <tr>\n",
       "      <th>Wide Awake It's Morning</th>\n",
       "      <td>0.064278</td>\n",
       "      <td>0.018977</td>\n",
       "      <td>0.055755</td>\n",
       "    </tr>\n",
       "    <tr>\n",
       "      <th>Zenne Y Frontera</th>\n",
       "      <td>0.044155</td>\n",
       "      <td>0.034615</td>\n",
       "      <td>0.039475</td>\n",
       "    </tr>\n",
       "    <tr>\n",
       "      <th>Zombie Dust</th>\n",
       "      <td>0.043167</td>\n",
       "      <td>0.040535</td>\n",
       "      <td>0.094844</td>\n",
       "    </tr>\n",
       "    <tr>\n",
       "      <th>§ucaba</th>\n",
       "      <td>0.051729</td>\n",
       "      <td>0.048821</td>\n",
       "      <td>0.060037</td>\n",
       "    </tr>\n",
       "  </tbody>\n",
       "</table>\n",
       "<p>250 rows × 3 columns</p>\n",
       "</div>"
      ],
      "text/plain": [
       "                                          complex     crisp     hoppy\n",
       "brand_name                                                           \n",
       "A Deal With The Devil                    0.056678  0.040272  0.071706\n",
       "A Deal With The Devil - Double Oak-Aged  0.035518  0.049384  0.054692\n",
       "Aaron                                    0.041683  0.042808  0.060647\n",
       "Abner                                    0.062675  0.036660  0.065511\n",
       "Abrasive Ale                             0.060460  0.045823  0.088004\n",
       "...                                           ...       ...       ...\n",
       "Westly                                   0.042772  0.076247  0.037869\n",
       "Wide Awake It's Morning                  0.064278  0.018977  0.055755\n",
       "Zenne Y Frontera                         0.044155  0.034615  0.039475\n",
       "Zombie Dust                              0.043167  0.040535  0.094844\n",
       "§ucaba                                   0.051729  0.048821  0.060037\n",
       "\n",
       "[250 rows x 3 columns]"
      ]
     },
     "execution_count": 47,
     "metadata": {},
     "output_type": "execute_result"
    }
   ],
   "source": [
    "# Brand Attribute average similarity\n",
    "attribute_similarity[['brand_name','complex','crisp','hoppy']].groupby(by=['brand_name']).mean()"
   ]
  },
  {
   "cell_type": "markdown",
   "metadata": {
    "id": "1pE1c-kiveYE"
   },
   "source": [
    "## Part D:  Sentiment Analysis"
   ]
  },
  {
   "cell_type": "code",
   "execution_count": 33,
   "metadata": {
    "id": "8yW803oQvdnJ"
   },
   "outputs": [],
   "source": [
    "# !pip install vaderSentiment"
   ]
  },
  {
   "cell_type": "code",
   "execution_count": 48,
   "metadata": {
    "id": "-glwFcEXvdqD"
   },
   "outputs": [],
   "source": [
    "from vaderSentiment.vaderSentiment import SentimentIntensityAnalyzer\n",
    "analyser = SentimentIntensityAnalyzer()\n",
    "\n",
    "def get_sentiment(review, **kwargs):\n",
    "    sentiment_score = analyser.polarity_scores(review)\n",
    "    positive_meter = round((sentiment_score['pos']), 2)\n",
    "    negative_meter = round((sentiment_score['neg']), 2)\n",
    "    if positive_meter >= negative_meter:\n",
    "        return positive_meter\n",
    "    else:\n",
    "        return -1 * negative_meter"
   ]
  },
  {
   "cell_type": "code",
   "execution_count": 49,
   "metadata": {
    "id": "d0B1TzAjwmGt"
   },
   "outputs": [],
   "source": [
    "df['sentiment_status'] = df['clean'].apply(get_sentiment)"
   ]
  },
  {
   "cell_type": "code",
   "execution_count": 50,
   "metadata": {
    "colab": {
     "base_uri": "https://localhost:8080/",
     "height": 204
    },
    "id": "_cZQfK6ewzgM",
    "outputId": "bbc7e4f2-44b1-4f38-8b67-47e3e8f84f28"
   },
   "outputs": [
    {
     "data": {
      "text/html": [
       "<div>\n",
       "<style scoped>\n",
       "    .dataframe tbody tr th:only-of-type {\n",
       "        vertical-align: middle;\n",
       "    }\n",
       "\n",
       "    .dataframe tbody tr th {\n",
       "        vertical-align: top;\n",
       "    }\n",
       "\n",
       "    .dataframe thead th {\n",
       "        text-align: right;\n",
       "    }\n",
       "</style>\n",
       "<table border=\"1\" class=\"dataframe\">\n",
       "  <thead>\n",
       "    <tr style=\"text-align: right;\">\n",
       "      <th></th>\n",
       "      <th>Unnamed: 0</th>\n",
       "      <th>brand_name</th>\n",
       "      <th>rating</th>\n",
       "      <th>review</th>\n",
       "      <th>clean</th>\n",
       "      <th>review_clean_tokanize</th>\n",
       "      <th>sentiment_status</th>\n",
       "    </tr>\n",
       "  </thead>\n",
       "  <tbody>\n",
       "    <tr>\n",
       "      <th>0</th>\n",
       "      <td>0</td>\n",
       "      <td>Kentucky Brunch Brand Stout</td>\n",
       "      <td>4.56</td>\n",
       "      <td>Long time waiting to tick this one, and I have...</td>\n",
       "      <td>long time waiting tick one say pretty underwhe...</td>\n",
       "      <td>[long, time, waiting, tick, one, say, pretty, ...</td>\n",
       "      <td>0.31</td>\n",
       "    </tr>\n",
       "    <tr>\n",
       "      <th>1</th>\n",
       "      <td>1</td>\n",
       "      <td>Kentucky Brunch Brand Stout</td>\n",
       "      <td>5.00</td>\n",
       "      <td>This review is for the 2019 batch. It was bott...</td>\n",
       "      <td>review 2019 batch bottle number 43 tasted part...</td>\n",
       "      <td>[review, 2019, batch, bottle, number, 43, tast...</td>\n",
       "      <td>0.23</td>\n",
       "    </tr>\n",
       "    <tr>\n",
       "      <th>2</th>\n",
       "      <td>2</td>\n",
       "      <td>Kentucky Brunch Brand Stout</td>\n",
       "      <td>5.00</td>\n",
       "      <td>Supreme maple OD! Soooo easy drinking &amp; well-t...</td>\n",
       "      <td>supreme maple od soooo easy drinking welltasty...</td>\n",
       "      <td>[supreme, maple, od, soooo, easy, drinking, we...</td>\n",
       "      <td>0.36</td>\n",
       "    </tr>\n",
       "    <tr>\n",
       "      <th>3</th>\n",
       "      <td>3</td>\n",
       "      <td>Kentucky Brunch Brand Stout</td>\n",
       "      <td>5.00</td>\n",
       "      <td>I have now had 4 different years of KBBS and c...</td>\n",
       "      <td>4 different year kbbs continue feel beer realm...</td>\n",
       "      <td>[4, different, year, kbbs, continue, feel, bee...</td>\n",
       "      <td>0.25</td>\n",
       "    </tr>\n",
       "    <tr>\n",
       "      <th>4</th>\n",
       "      <td>4</td>\n",
       "      <td>Kentucky Brunch Brand Stout</td>\n",
       "      <td>5.00</td>\n",
       "      <td>2020 Bottle. Absolutely bonkers Maple Syrup on...</td>\n",
       "      <td>2020 bottle absolutely bonkers maple syrup nos...</td>\n",
       "      <td>[2020, bottle, absolutely, bonkers, maple, syr...</td>\n",
       "      <td>-0.14</td>\n",
       "    </tr>\n",
       "  </tbody>\n",
       "</table>\n",
       "</div>"
      ],
      "text/plain": [
       "   Unnamed: 0                   brand_name  rating  \\\n",
       "0           0  Kentucky Brunch Brand Stout    4.56   \n",
       "1           1  Kentucky Brunch Brand Stout    5.00   \n",
       "2           2  Kentucky Brunch Brand Stout    5.00   \n",
       "3           3  Kentucky Brunch Brand Stout    5.00   \n",
       "4           4  Kentucky Brunch Brand Stout    5.00   \n",
       "\n",
       "                                              review  \\\n",
       "0  Long time waiting to tick this one, and I have...   \n",
       "1  This review is for the 2019 batch. It was bott...   \n",
       "2  Supreme maple OD! Soooo easy drinking & well-t...   \n",
       "3  I have now had 4 different years of KBBS and c...   \n",
       "4  2020 Bottle. Absolutely bonkers Maple Syrup on...   \n",
       "\n",
       "                                               clean  \\\n",
       "0  long time waiting tick one say pretty underwhe...   \n",
       "1  review 2019 batch bottle number 43 tasted part...   \n",
       "2  supreme maple od soooo easy drinking welltasty...   \n",
       "3  4 different year kbbs continue feel beer realm...   \n",
       "4  2020 bottle absolutely bonkers maple syrup nos...   \n",
       "\n",
       "                               review_clean_tokanize  sentiment_status  \n",
       "0  [long, time, waiting, tick, one, say, pretty, ...              0.31  \n",
       "1  [review, 2019, batch, bottle, number, 43, tast...              0.23  \n",
       "2  [supreme, maple, od, soooo, easy, drinking, we...              0.36  \n",
       "3  [4, different, year, kbbs, continue, feel, bee...              0.25  \n",
       "4  [2020, bottle, absolutely, bonkers, maple, syr...             -0.14  "
      ]
     },
     "execution_count": 50,
     "metadata": {},
     "output_type": "execute_result"
    }
   ],
   "source": [
    "# Negative sentiments are -ve. \n",
    "df.head()"
   ]
  },
  {
   "cell_type": "code",
   "execution_count": null,
   "metadata": {
    "id": "VJ53bstiw4cg"
   },
   "outputs": [],
   "source": []
  },
  {
   "cell_type": "markdown",
   "metadata": {},
   "source": [
    "## Part E:  Product Recommendation"
   ]
  },
  {
   "cell_type": "code",
   "execution_count": 51,
   "metadata": {},
   "outputs": [
    {
     "data": {
      "text/plain": [
       "['complex', 'crisp', 'hoppy']"
      ]
     },
     "execution_count": 51,
     "metadata": {},
     "output_type": "execute_result"
    }
   ],
   "source": [
    "# Using the same customer Preference\n",
    "preference_list"
   ]
  },
  {
   "cell_type": "code",
   "execution_count": 52,
   "metadata": {},
   "outputs": [
    {
     "name": "stderr",
     "output_type": "stream",
     "text": [
      "<ipython-input-52-90e62118c12c>:4: SettingWithCopyWarning: \n",
      "A value is trying to be set on a copy of a slice from a DataFrame.\n",
      "Try using .loc[row_indexer,col_indexer] = value instead\n",
      "\n",
      "See the caveats in the documentation: https://pandas.pydata.org/pandas-docs/stable/user_guide/indexing.html#returning-a-view-versus-a-copy\n",
      "  customer_choice['customer_preference'] = customer_choice[preference_list[0]]/3 + customer_choice[preference_list[1]]/3 + customer_choice[preference_list[2]]/3\n"
     ]
    }
   ],
   "source": [
    "# \n",
    "columns2 = ['brand_name'] + preference_list\n",
    "customer_choice = similarity[columns2]\n",
    "customer_choice['customer_preference'] = customer_choice[preference_list[0]]/3 + customer_choice[preference_list[1]]/3 + customer_choice[preference_list[2]]/3\n",
    "beer_rating = customer_choice[['brand_name','customer_preference']].groupby(by= 'brand_name').mean()"
   ]
  },
  {
   "cell_type": "code",
   "execution_count": 56,
   "metadata": {},
   "outputs": [],
   "source": [
    "beer_rating['sentiment_status'] = df[['brand_name', 'sentiment_status']].groupby(by = 'brand_name').mean().sort_values(by='sentiment_status')['sentiment_status']"
   ]
  },
  {
   "cell_type": "code",
   "execution_count": 87,
   "metadata": {},
   "outputs": [
    {
     "data": {
      "text/html": [
       "<div>\n",
       "<style scoped>\n",
       "    .dataframe tbody tr th:only-of-type {\n",
       "        vertical-align: middle;\n",
       "    }\n",
       "\n",
       "    .dataframe tbody tr th {\n",
       "        vertical-align: top;\n",
       "    }\n",
       "\n",
       "    .dataframe thead th {\n",
       "        text-align: right;\n",
       "    }\n",
       "</style>\n",
       "<table border=\"1\" class=\"dataframe\">\n",
       "  <thead>\n",
       "    <tr style=\"text-align: right;\">\n",
       "      <th></th>\n",
       "      <th>customer_preference</th>\n",
       "      <th>sentiment_status</th>\n",
       "      <th>overall_rating</th>\n",
       "    </tr>\n",
       "    <tr>\n",
       "      <th>brand_name</th>\n",
       "      <th></th>\n",
       "      <th></th>\n",
       "      <th></th>\n",
       "    </tr>\n",
       "  </thead>\n",
       "  <tbody>\n",
       "    <tr>\n",
       "      <th>A Deal With The Devil</th>\n",
       "      <td>0.056219</td>\n",
       "      <td>0.2704</td>\n",
       "      <td>0.808906</td>\n",
       "    </tr>\n",
       "    <tr>\n",
       "      <th>A Deal With The Devil - Double Oak-Aged</th>\n",
       "      <td>0.046531</td>\n",
       "      <td>0.3216</td>\n",
       "      <td>0.810413</td>\n",
       "    </tr>\n",
       "    <tr>\n",
       "      <th>Aaron</th>\n",
       "      <td>0.048379</td>\n",
       "      <td>0.2308</td>\n",
       "      <td>0.743705</td>\n",
       "    </tr>\n",
       "    <tr>\n",
       "      <th>Abner</th>\n",
       "      <td>0.054949</td>\n",
       "      <td>0.2272</td>\n",
       "      <td>0.768191</td>\n",
       "    </tr>\n",
       "    <tr>\n",
       "      <th>Abrasive Ale</th>\n",
       "      <td>0.064762</td>\n",
       "      <td>0.2448</td>\n",
       "      <td>0.823605</td>\n",
       "    </tr>\n",
       "  </tbody>\n",
       "</table>\n",
       "</div>"
      ],
      "text/plain": [
       "                                         customer_preference  \\\n",
       "brand_name                                                     \n",
       "A Deal With The Devil                               0.056219   \n",
       "A Deal With The Devil - Double Oak-Aged             0.046531   \n",
       "Aaron                                               0.048379   \n",
       "Abner                                               0.054949   \n",
       "Abrasive Ale                                        0.064762   \n",
       "\n",
       "                                         sentiment_status  overall_rating  \n",
       "brand_name                                                                 \n",
       "A Deal With The Devil                              0.2704        0.808906  \n",
       "A Deal With The Devil - Double Oak-Aged            0.3216        0.810413  \n",
       "Aaron                                              0.2308        0.743705  \n",
       "Abner                                              0.2272        0.768191  \n",
       "Abrasive Ale                                       0.2448        0.823605  "
      ]
     },
     "execution_count": 87,
     "metadata": {},
     "output_type": "execute_result"
    }
   ],
   "source": [
    "#Overall Recommendation\n",
    "\n",
    "#Normalisation of sentiment and preference\n",
    "cpm = customer_choice['customer_preference'].min()\n",
    "cpn = customer_choice['customer_preference'].max() - customer_choice['customer_preference'].min()\n",
    "sm = df['sentiment_status'].min()\n",
    "sn = df['sentiment_status'].max() - df['sentiment_status'].min()\n",
    "\n",
    "\n",
    "beer_rating['overall_rating'] = (beer_rating['customer_preference'] - cpm)/cpn + (beer_rating['sentiment_status'] - sm)/sn\n",
    "beer_rating.head()"
   ]
  },
  {
   "cell_type": "code",
   "execution_count": 88,
   "metadata": {},
   "outputs": [
    {
     "data": {
      "text/plain": [
       "array(['King Sue', 'Miami Madness', 'DFPF'], dtype=object)"
      ]
     },
     "execution_count": 88,
     "metadata": {},
     "output_type": "execute_result"
    }
   ],
   "source": [
    "# Product Recommendation\n",
    "beer_rating.sort_values(by='overall_rating',ascending = False).index[:3].values"
   ]
  },
  {
   "cell_type": "code",
   "execution_count": 109,
   "metadata": {},
   "outputs": [
    {
     "data": {
      "text/html": [
       "<div>\n",
       "<style scoped>\n",
       "    .dataframe tbody tr th:only-of-type {\n",
       "        vertical-align: middle;\n",
       "    }\n",
       "\n",
       "    .dataframe tbody tr th {\n",
       "        vertical-align: top;\n",
       "    }\n",
       "\n",
       "    .dataframe thead th {\n",
       "        text-align: right;\n",
       "    }\n",
       "</style>\n",
       "<table border=\"1\" class=\"dataframe\">\n",
       "  <thead>\n",
       "    <tr style=\"text-align: right;\">\n",
       "      <th></th>\n",
       "      <th>customer_preference</th>\n",
       "      <th>sentiment_status</th>\n",
       "      <th>overall_rating</th>\n",
       "    </tr>\n",
       "    <tr>\n",
       "      <th>brand_name</th>\n",
       "      <th></th>\n",
       "      <th></th>\n",
       "      <th></th>\n",
       "    </tr>\n",
       "  </thead>\n",
       "  <tbody>\n",
       "    <tr>\n",
       "      <th>King Sue</th>\n",
       "      <td>0.082866</td>\n",
       "      <td>0.2572</td>\n",
       "      <td>0.909385</td>\n",
       "    </tr>\n",
       "    <tr>\n",
       "      <th>Miami Madness</th>\n",
       "      <td>0.070487</td>\n",
       "      <td>0.3116</td>\n",
       "      <td>0.902272</td>\n",
       "    </tr>\n",
       "    <tr>\n",
       "      <th>DFPF</th>\n",
       "      <td>0.061469</td>\n",
       "      <td>0.3404</td>\n",
       "      <td>0.888212</td>\n",
       "    </tr>\n",
       "  </tbody>\n",
       "</table>\n",
       "</div>"
      ],
      "text/plain": [
       "               customer_preference  sentiment_status  overall_rating\n",
       "brand_name                                                          \n",
       "King Sue                  0.082866            0.2572        0.909385\n",
       "Miami Madness             0.070487            0.3116        0.902272\n",
       "DFPF                      0.061469            0.3404        0.888212"
      ]
     },
     "execution_count": 109,
     "metadata": {},
     "output_type": "execute_result"
    }
   ],
   "source": [
    "# Sentiment and Similarity Score (Overall rating is normalised)\n",
    "beer_rating.loc[beer_rating.sort_values(by='overall_rating',ascending = False).index[:3]]"
   ]
  },
  {
   "cell_type": "markdown",
   "metadata": {},
   "source": [
    "## Part F: Word Embeddings - using Glove"
   ]
  },
  {
   "cell_type": "code",
   "execution_count": 89,
   "metadata": {},
   "outputs": [],
   "source": [
    "from scipy import spatial"
   ]
  },
  {
   "cell_type": "code",
   "execution_count": 91,
   "metadata": {},
   "outputs": [],
   "source": [
    "embeddings_dict = {}\n",
    "with open(\"glove.6B.300d.txt\", 'r',encoding=\"utf-8\") as f:\n",
    "    for line in f:\n",
    "        values = line.split()\n",
    "        word = values[0]\n",
    "        vector = np.asarray(values[1:], \"float32\")\n",
    "        embeddings_dict[word] = vector"
   ]
  },
  {
   "cell_type": "code",
   "execution_count": 92,
   "metadata": {},
   "outputs": [
    {
     "data": {
      "text/plain": [
       "['highly', 'carbonated', 'effervescent', 'fruity', 'flavor']"
      ]
     },
     "execution_count": 92,
     "metadata": {},
     "output_type": "execute_result"
    }
   ],
   "source": [
    "# preference token\n",
    "customer_pref_tokens = customer_attribute['clean'].apply(word_tokenize).loc['crisp']+customer_attribute['clean'].apply(word_tokenize).loc['hoppy']\n",
    "\n",
    "customer_pref_tokens[:5]"
   ]
  },
  {
   "cell_type": "code",
   "execution_count": 93,
   "metadata": {},
   "outputs": [],
   "source": [
    "def review_cosine(list1):\n",
    "    \n",
    "    customer_pref_tokens_embeddings = np.array([0.00]*300) \n",
    "    review_embeddings = np.array([0.00]*300)\n",
    "    \n",
    "    try:\n",
    "        for i in customer_pref_tokens:\n",
    "            customer_pref_tokens_embeddings += embeddings_dict[i.lower()]\n",
    "    except:\n",
    "        x = 0 # do nothing\n",
    "        \n",
    "    customer_pref_tokens_embeddings = customer_pref_tokens_embeddings/len(customer_pref_tokens)\n",
    "        \n",
    "    try:\n",
    "        for i in list1:\n",
    "            review_embeddings += embeddings_dict[i.lower()]\n",
    "    except:\n",
    "        x=0 # do nothing\n",
    "    \n",
    "    review_embeddings = review_embeddings/len(list1)\n",
    "    \n",
    "    return (1 - spatial.distance.cosine(customer_pref_tokens_embeddings, review_embeddings))\n",
    "    "
   ]
  },
  {
   "cell_type": "code",
   "execution_count": 94,
   "metadata": {},
   "outputs": [
    {
     "name": "stderr",
     "output_type": "stream",
     "text": [
      "C:\\ProgramData\\Anaconda3\\lib\\site-packages\\scipy\\spatial\\distance.py:714: RuntimeWarning: invalid value encountered in double_scalars\n",
      "  dist = 1.0 - uv / np.sqrt(uu * vv)\n"
     ]
    },
    {
     "data": {
      "text/html": [
       "<div>\n",
       "<style scoped>\n",
       "    .dataframe tbody tr th:only-of-type {\n",
       "        vertical-align: middle;\n",
       "    }\n",
       "\n",
       "    .dataframe tbody tr th {\n",
       "        vertical-align: top;\n",
       "    }\n",
       "\n",
       "    .dataframe thead th {\n",
       "        text-align: right;\n",
       "    }\n",
       "</style>\n",
       "<table border=\"1\" class=\"dataframe\">\n",
       "  <thead>\n",
       "    <tr style=\"text-align: right;\">\n",
       "      <th></th>\n",
       "      <th>Unnamed: 0</th>\n",
       "      <th>brand_name</th>\n",
       "      <th>rating</th>\n",
       "      <th>review</th>\n",
       "      <th>clean</th>\n",
       "      <th>review_clean_tokanize</th>\n",
       "      <th>sentiment_status</th>\n",
       "      <th>word_embedding_cosine_similarity_attribute_and_review</th>\n",
       "    </tr>\n",
       "  </thead>\n",
       "  <tbody>\n",
       "    <tr>\n",
       "      <th>0</th>\n",
       "      <td>0</td>\n",
       "      <td>Kentucky Brunch Brand Stout</td>\n",
       "      <td>4.56</td>\n",
       "      <td>Long time waiting to tick this one, and I have...</td>\n",
       "      <td>long time waiting tick one say pretty underwhe...</td>\n",
       "      <td>[long, time, waiting, tick, one, say, pretty, ...</td>\n",
       "      <td>0.31</td>\n",
       "      <td>0.345601</td>\n",
       "    </tr>\n",
       "    <tr>\n",
       "      <th>1</th>\n",
       "      <td>1</td>\n",
       "      <td>Kentucky Brunch Brand Stout</td>\n",
       "      <td>5.00</td>\n",
       "      <td>This review is for the 2019 batch. It was bott...</td>\n",
       "      <td>review 2019 batch bottle number 43 tasted part...</td>\n",
       "      <td>[review, 2019, batch, bottle, number, 43, tast...</td>\n",
       "      <td>0.23</td>\n",
       "      <td>0.461112</td>\n",
       "    </tr>\n",
       "    <tr>\n",
       "      <th>2</th>\n",
       "      <td>2</td>\n",
       "      <td>Kentucky Brunch Brand Stout</td>\n",
       "      <td>5.00</td>\n",
       "      <td>Supreme maple OD! Soooo easy drinking &amp; well-t...</td>\n",
       "      <td>supreme maple od soooo easy drinking welltasty...</td>\n",
       "      <td>[supreme, maple, od, soooo, easy, drinking, we...</td>\n",
       "      <td>0.36</td>\n",
       "      <td>0.259267</td>\n",
       "    </tr>\n",
       "    <tr>\n",
       "      <th>3</th>\n",
       "      <td>3</td>\n",
       "      <td>Kentucky Brunch Brand Stout</td>\n",
       "      <td>5.00</td>\n",
       "      <td>I have now had 4 different years of KBBS and c...</td>\n",
       "      <td>4 different year kbbs continue feel beer realm...</td>\n",
       "      <td>[4, different, year, kbbs, continue, feel, bee...</td>\n",
       "      <td>0.25</td>\n",
       "      <td>0.109184</td>\n",
       "    </tr>\n",
       "    <tr>\n",
       "      <th>4</th>\n",
       "      <td>4</td>\n",
       "      <td>Kentucky Brunch Brand Stout</td>\n",
       "      <td>5.00</td>\n",
       "      <td>2020 Bottle. Absolutely bonkers Maple Syrup on...</td>\n",
       "      <td>2020 bottle absolutely bonkers maple syrup nos...</td>\n",
       "      <td>[2020, bottle, absolutely, bonkers, maple, syr...</td>\n",
       "      <td>-0.14</td>\n",
       "      <td>0.416121</td>\n",
       "    </tr>\n",
       "  </tbody>\n",
       "</table>\n",
       "</div>"
      ],
      "text/plain": [
       "   Unnamed: 0                   brand_name  rating  \\\n",
       "0           0  Kentucky Brunch Brand Stout    4.56   \n",
       "1           1  Kentucky Brunch Brand Stout    5.00   \n",
       "2           2  Kentucky Brunch Brand Stout    5.00   \n",
       "3           3  Kentucky Brunch Brand Stout    5.00   \n",
       "4           4  Kentucky Brunch Brand Stout    5.00   \n",
       "\n",
       "                                              review  \\\n",
       "0  Long time waiting to tick this one, and I have...   \n",
       "1  This review is for the 2019 batch. It was bott...   \n",
       "2  Supreme maple OD! Soooo easy drinking & well-t...   \n",
       "3  I have now had 4 different years of KBBS and c...   \n",
       "4  2020 Bottle. Absolutely bonkers Maple Syrup on...   \n",
       "\n",
       "                                               clean  \\\n",
       "0  long time waiting tick one say pretty underwhe...   \n",
       "1  review 2019 batch bottle number 43 tasted part...   \n",
       "2  supreme maple od soooo easy drinking welltasty...   \n",
       "3  4 different year kbbs continue feel beer realm...   \n",
       "4  2020 bottle absolutely bonkers maple syrup nos...   \n",
       "\n",
       "                               review_clean_tokanize  sentiment_status  \\\n",
       "0  [long, time, waiting, tick, one, say, pretty, ...              0.31   \n",
       "1  [review, 2019, batch, bottle, number, 43, tast...              0.23   \n",
       "2  [supreme, maple, od, soooo, easy, drinking, we...              0.36   \n",
       "3  [4, different, year, kbbs, continue, feel, bee...              0.25   \n",
       "4  [2020, bottle, absolutely, bonkers, maple, syr...             -0.14   \n",
       "\n",
       "   word_embedding_cosine_similarity_attribute_and_review  \n",
       "0                                           0.345601      \n",
       "1                                           0.461112      \n",
       "2                                           0.259267      \n",
       "3                                           0.109184      \n",
       "4                                           0.416121      "
      ]
     },
     "execution_count": 94,
     "metadata": {},
     "output_type": "execute_result"
    }
   ],
   "source": [
    "df['word_embedding_cosine_similarity_attribute_and_review'] = df['review_clean_tokanize'].map(review_cosine)\n",
    "df.head()"
   ]
  },
  {
   "cell_type": "code",
   "execution_count": 106,
   "metadata": {},
   "outputs": [
    {
     "data": {
      "text/plain": [
       "array(['Framboise Du Fermier', 'Breakfast Stout',\n",
       "       'Speedway Stout - Vietnamese Coffee'], dtype=object)"
      ]
     },
     "execution_count": 106,
     "metadata": {},
     "output_type": "execute_result"
    }
   ],
   "source": [
    "#Overall Top 3 Recommendation\n",
    "\n",
    "beer_rating_embedding = df[['brand_name','word_embedding_cosine_similarity_attribute_and_review']].groupby(by= 'brand_name').mean()\n",
    "beer_rating_embedding['sentiment_status'] = df[['brand_name', 'sentiment_status']].groupby(by = 'brand_name').mean()\n",
    "\n",
    "# Normalised\n",
    "wer =  beer_rating_embedding['word_embedding_cosine_similarity_attribute_and_review'].max()-beer_rating_embedding['word_embedding_cosine_similarity_attribute_and_review'].min()\n",
    "wem = beer_rating_embedding['word_embedding_cosine_similarity_attribute_and_review'].min()\n",
    "\n",
    "sm = beer_rating_embedding['sentiment_status'].min()\n",
    "sr = beer_rating_embedding['sentiment_status'].max() - beer_rating_embedding['sentiment_status'].min()\n",
    "\n",
    "beer_rating_embedding['overall_rating'] = (beer_rating_embedding['word_embedding_cosine_similarity_attribute_and_review']-wem)/wer + (beer_rating_embedding['sentiment_status']-sm)/sr\n",
    "beer_rating_embedding.sort_values(by='overall_rating',ascending = False).index[:3].values"
   ]
  },
  {
   "cell_type": "code",
   "execution_count": null,
   "metadata": {},
   "outputs": [],
   "source": [
    "# The recommendation is different from using WordEmbeddings and Bag of Words"
   ]
  },
  {
   "cell_type": "code",
   "execution_count": 153,
   "metadata": {},
   "outputs": [
    {
     "data": {
      "text/html": [
       "<div>\n",
       "<style scoped>\n",
       "    .dataframe tbody tr th:only-of-type {\n",
       "        vertical-align: middle;\n",
       "    }\n",
       "\n",
       "    .dataframe tbody tr th {\n",
       "        vertical-align: top;\n",
       "    }\n",
       "\n",
       "    .dataframe thead th {\n",
       "        text-align: right;\n",
       "    }\n",
       "</style>\n",
       "<table border=\"1\" class=\"dataframe\">\n",
       "  <thead>\n",
       "    <tr style=\"text-align: right;\">\n",
       "      <th></th>\n",
       "      <th>Word_Embedding_cosine_similarity</th>\n",
       "      <th>bag_of_words_cosine_similarity</th>\n",
       "    </tr>\n",
       "    <tr>\n",
       "      <th>brand_name</th>\n",
       "      <th></th>\n",
       "      <th></th>\n",
       "    </tr>\n",
       "  </thead>\n",
       "  <tbody>\n",
       "    <tr>\n",
       "      <th>Framboise Du Fermier</th>\n",
       "      <td>0.505260</td>\n",
       "      <td>0.034469</td>\n",
       "    </tr>\n",
       "    <tr>\n",
       "      <th>Breakfast Stout</th>\n",
       "      <td>0.485395</td>\n",
       "      <td>0.043470</td>\n",
       "    </tr>\n",
       "    <tr>\n",
       "      <th>Speedway Stout - Vietnamese Coffee</th>\n",
       "      <td>0.529738</td>\n",
       "      <td>0.045570</td>\n",
       "    </tr>\n",
       "  </tbody>\n",
       "</table>\n",
       "</div>"
      ],
      "text/plain": [
       "                                    Word_Embedding_cosine_similarity  \\\n",
       "brand_name                                                             \n",
       "Framboise Du Fermier                                        0.505260   \n",
       "Breakfast Stout                                             0.485395   \n",
       "Speedway Stout - Vietnamese Coffee                          0.529738   \n",
       "\n",
       "                                    bag_of_words_cosine_similarity  \n",
       "brand_name                                                          \n",
       "Framboise Du Fermier                                      0.034469  \n",
       "Breakfast Stout                                           0.043470  \n",
       "Speedway Stout - Vietnamese Coffee                        0.045570  "
      ]
     },
     "execution_count": 153,
     "metadata": {},
     "output_type": "execute_result"
    }
   ],
   "source": [
    "# Cosine Similarity Comparision between Bag of Words and Using Word Embeddings.\n",
    "WE_BoW_compare = pd.DataFrame()\n",
    "WE_BoW_compare[['Word_Embedding_cosine_similarity']] = beer_rating_embedding[['word_embedding_cosine_similarity_attribute_and_review']]\n",
    "WE_BoW_compare['bag_of_words_cosine_similarity'] = beer_rating['customer_preference']\n",
    "WE_BoW_compare.loc[beer_rating_embedding.sort_values(by='overall_rating',ascending = False).index[:3]]"
   ]
  },
  {
   "cell_type": "code",
   "execution_count": 155,
   "metadata": {},
   "outputs": [
    {
     "data": {
      "text/html": [
       "<div>\n",
       "<style scoped>\n",
       "    .dataframe tbody tr th:only-of-type {\n",
       "        vertical-align: middle;\n",
       "    }\n",
       "\n",
       "    .dataframe tbody tr th {\n",
       "        vertical-align: top;\n",
       "    }\n",
       "\n",
       "    .dataframe thead th {\n",
       "        text-align: right;\n",
       "    }\n",
       "</style>\n",
       "<table border=\"1\" class=\"dataframe\">\n",
       "  <thead>\n",
       "    <tr style=\"text-align: right;\">\n",
       "      <th></th>\n",
       "      <th>Word_Embedding_cosine_similarity</th>\n",
       "      <th>bag_of_words_cosine_similarity</th>\n",
       "    </tr>\n",
       "    <tr>\n",
       "      <th>brand_name</th>\n",
       "      <th></th>\n",
       "      <th></th>\n",
       "    </tr>\n",
       "  </thead>\n",
       "  <tbody>\n",
       "    <tr>\n",
       "      <th>Framboise Du Fermier</th>\n",
       "      <td>0.809027</td>\n",
       "      <td>0.183745</td>\n",
       "    </tr>\n",
       "    <tr>\n",
       "      <th>Breakfast Stout</th>\n",
       "      <td>0.744754</td>\n",
       "      <td>0.335559</td>\n",
       "    </tr>\n",
       "    <tr>\n",
       "      <th>Speedway Stout - Vietnamese Coffee</th>\n",
       "      <td>0.888223</td>\n",
       "      <td>0.370973</td>\n",
       "    </tr>\n",
       "  </tbody>\n",
       "</table>\n",
       "</div>"
      ],
      "text/plain": [
       "                                    Word_Embedding_cosine_similarity  \\\n",
       "brand_name                                                             \n",
       "Framboise Du Fermier                                        0.809027   \n",
       "Breakfast Stout                                             0.744754   \n",
       "Speedway Stout - Vietnamese Coffee                          0.888223   \n",
       "\n",
       "                                    bag_of_words_cosine_similarity  \n",
       "brand_name                                                          \n",
       "Framboise Du Fermier                                      0.183745  \n",
       "Breakfast Stout                                           0.335559  \n",
       "Speedway Stout - Vietnamese Coffee                        0.370973  "
      ]
     },
     "execution_count": 155,
     "metadata": {},
     "output_type": "execute_result"
    }
   ],
   "source": [
    "# Normalised Cosine Similarity Comparision\n",
    "wem = WE_BoW_compare['Word_Embedding_cosine_similarity'].min()\n",
    "wer = WE_BoW_compare['Word_Embedding_cosine_similarity'].max() - WE_BoW_compare['Word_Embedding_cosine_similarity'].min()\n",
    "\n",
    "bowm = WE_BoW_compare['bag_of_words_cosine_similarity'].min()\n",
    "bowr = WE_BoW_compare['bag_of_words_cosine_similarity'].max() - WE_BoW_compare['bag_of_words_cosine_similarity'].min()\n",
    "\n",
    "WE_BoW_compare['bag_of_words_cosine_similarity'] = (WE_BoW_compare['bag_of_words_cosine_similarity']- bowm)/bowr\n",
    "WE_BoW_compare['Word_Embedding_cosine_similarity'] = (WE_BoW_compare['Word_Embedding_cosine_similarity'] - wem)/wer\n",
    "\n",
    "WE_BoW_compare.loc[beer_rating_embedding.sort_values(by='overall_rating',ascending = False).index[:3]]"
   ]
  },
  {
   "cell_type": "code",
   "execution_count": null,
   "metadata": {},
   "outputs": [],
   "source": [
    "# We Observe that the Cosine similarity of the products using the 2 methods is very different."
   ]
  },
  {
   "cell_type": "markdown",
   "metadata": {},
   "source": [
    "## Part G: Top 3 Products"
   ]
  },
  {
   "cell_type": "code",
   "execution_count": 111,
   "metadata": {},
   "outputs": [],
   "source": [
    "# This recommendation will be the ones which have the attributes that are most amoung the general population. \n",
    "# For customers looking for more nuanced attributes, the recommendation will be different."
   ]
  },
  {
   "cell_type": "code",
   "execution_count": 113,
   "metadata": {},
   "outputs": [
    {
     "data": {
      "text/html": [
       "<div>\n",
       "<style scoped>\n",
       "    .dataframe tbody tr th:only-of-type {\n",
       "        vertical-align: middle;\n",
       "    }\n",
       "\n",
       "    .dataframe tbody tr th {\n",
       "        vertical-align: top;\n",
       "    }\n",
       "\n",
       "    .dataframe thead th {\n",
       "        text-align: right;\n",
       "    }\n",
       "</style>\n",
       "<table border=\"1\" class=\"dataframe\">\n",
       "  <thead>\n",
       "    <tr style=\"text-align: right;\">\n",
       "      <th></th>\n",
       "      <th>customer_preference</th>\n",
       "      <th>sentiment_status</th>\n",
       "      <th>overall_rating</th>\n",
       "    </tr>\n",
       "    <tr>\n",
       "      <th>brand_name</th>\n",
       "      <th></th>\n",
       "      <th></th>\n",
       "      <th></th>\n",
       "    </tr>\n",
       "  </thead>\n",
       "  <tbody>\n",
       "    <tr>\n",
       "      <th>King Sue</th>\n",
       "      <td>0.082866</td>\n",
       "      <td>0.2572</td>\n",
       "      <td>0.909385</td>\n",
       "    </tr>\n",
       "    <tr>\n",
       "      <th>Miami Madness</th>\n",
       "      <td>0.070487</td>\n",
       "      <td>0.3116</td>\n",
       "      <td>0.902272</td>\n",
       "    </tr>\n",
       "    <tr>\n",
       "      <th>DFPF</th>\n",
       "      <td>0.061469</td>\n",
       "      <td>0.3404</td>\n",
       "      <td>0.888212</td>\n",
       "    </tr>\n",
       "  </tbody>\n",
       "</table>\n",
       "</div>"
      ],
      "text/plain": [
       "               customer_preference  sentiment_status  overall_rating\n",
       "brand_name                                                          \n",
       "King Sue                  0.082866            0.2572        0.909385\n",
       "Miami Madness             0.070487            0.3116        0.902272\n",
       "DFPF                      0.061469            0.3404        0.888212"
      ]
     },
     "execution_count": 113,
     "metadata": {},
     "output_type": "execute_result"
    }
   ],
   "source": [
    "# Top Beers Based on sentiment and Attribute preference\n",
    "beer_rating.loc[beer_rating.sort_values(by='overall_rating',ascending = False).index[:3]]"
   ]
  },
  {
   "cell_type": "code",
   "execution_count": 121,
   "metadata": {},
   "outputs": [
    {
     "data": {
      "text/html": [
       "<div>\n",
       "<style scoped>\n",
       "    .dataframe tbody tr th:only-of-type {\n",
       "        vertical-align: middle;\n",
       "    }\n",
       "\n",
       "    .dataframe tbody tr th {\n",
       "        vertical-align: top;\n",
       "    }\n",
       "\n",
       "    .dataframe thead th {\n",
       "        text-align: right;\n",
       "    }\n",
       "</style>\n",
       "<table border=\"1\" class=\"dataframe\">\n",
       "  <thead>\n",
       "    <tr style=\"text-align: right;\">\n",
       "      <th></th>\n",
       "      <th>customer_preference</th>\n",
       "      <th>sentiment_status</th>\n",
       "      <th>overall_rating</th>\n",
       "    </tr>\n",
       "    <tr>\n",
       "      <th>brand_name</th>\n",
       "      <th></th>\n",
       "      <th></th>\n",
       "      <th></th>\n",
       "    </tr>\n",
       "  </thead>\n",
       "  <tbody>\n",
       "    <tr>\n",
       "      <th>Chemtrailmix</th>\n",
       "      <td>0.023574</td>\n",
       "      <td>0.259200</td>\n",
       "      <td>0.663380</td>\n",
       "    </tr>\n",
       "    <tr>\n",
       "      <th>Vanilla Bean Assassin</th>\n",
       "      <td>0.032558</td>\n",
       "      <td>0.274375</td>\n",
       "      <td>0.713339</td>\n",
       "    </tr>\n",
       "    <tr>\n",
       "      <th>Blessed</th>\n",
       "      <td>0.035185</td>\n",
       "      <td>0.299200</td>\n",
       "      <td>0.744663</td>\n",
       "    </tr>\n",
       "  </tbody>\n",
       "</table>\n",
       "</div>"
      ],
      "text/plain": [
       "                       customer_preference  sentiment_status  overall_rating\n",
       "brand_name                                                                  \n",
       "Chemtrailmix                      0.023574          0.259200        0.663380\n",
       "Vanilla Bean Assassin             0.032558          0.274375        0.713339\n",
       "Blessed                           0.035185          0.299200        0.744663"
      ]
     },
     "execution_count": 121,
     "metadata": {},
     "output_type": "execute_result"
    }
   ],
   "source": [
    "# Top beers based on Rating\n",
    "beer_rating.loc[df[['rating','brand_name']].groupby(by=['brand_name']).mean().sort_values(by = 'rating',ascending=False).index[:3]]"
   ]
  },
  {
   "cell_type": "code",
   "execution_count": null,
   "metadata": {},
   "outputs": [],
   "source": [
    "# Data shows that customer preference is very low in top 3 by ratings beer."
   ]
  }
 ],
 "metadata": {
  "accelerator": "GPU",
  "colab": {
   "collapsed_sections": [],
   "name": "Assignment2_Unstructured till part D.ipynb",
   "provenance": []
  },
  "kernelspec": {
   "display_name": "Python 3",
   "language": "python",
   "name": "python3"
  },
  "language_info": {
   "codemirror_mode": {
    "name": "ipython",
    "version": 3
   },
   "file_extension": ".py",
   "mimetype": "text/x-python",
   "name": "python",
   "nbconvert_exporter": "python",
   "pygments_lexer": "ipython3",
   "version": "3.8.5"
  }
 },
 "nbformat": 4,
 "nbformat_minor": 1
}
